{
 "cells": [
  {
   "cell_type": "code",
   "execution_count": 1,
   "id": "a439d522",
   "metadata": {},
   "outputs": [
    {
     "name": "stdout",
     "output_type": "stream",
     "text": [
      "Collecting BeautifulSoup\n",
      "  Downloading BeautifulSoup-3.2.2.tar.gz (32 kB)\n",
      "  Downloading BeautifulSoup-3.2.1.tar.gz (31 kB)\n",
      "  Downloading BeautifulSoup-3.2.0.tar.gz (31 kB)\n",
      "Note: you may need to restart the kernel to use updated packages.\n"
     ]
    },
    {
     "name": "stderr",
     "output_type": "stream",
     "text": [
      "    ERROR: Command errored out with exit status 1:\n",
      "     command: 'C:\\Users\\KARTHIKEYAN SELVARAJ\\anaconda3\\python.exe' -c 'import io, os, sys, setuptools, tokenize; sys.argv[0] = '\"'\"'C:\\\\Users\\\\KARTHIKEYAN SELVARAJ\\\\AppData\\\\Local\\\\Temp\\\\pip-install-k8ifnip_\\\\beautifulsoup_dff623ae9eb14d708d0dc422396efbf8\\\\setup.py'\"'\"'; __file__='\"'\"'C:\\\\Users\\\\KARTHIKEYAN SELVARAJ\\\\AppData\\\\Local\\\\Temp\\\\pip-install-k8ifnip_\\\\beautifulsoup_dff623ae9eb14d708d0dc422396efbf8\\\\setup.py'\"'\"';f = getattr(tokenize, '\"'\"'open'\"'\"', open)(__file__) if os.path.exists(__file__) else io.StringIO('\"'\"'from setuptools import setup; setup()'\"'\"');code = f.read().replace('\"'\"'\\r\\n'\"'\"', '\"'\"'\\n'\"'\"');f.close();exec(compile(code, __file__, '\"'\"'exec'\"'\"'))' egg_info --egg-base 'C:\\Users\\KARTHIKEYAN SELVARAJ\\AppData\\Local\\Temp\\pip-pip-egg-info-onhx1xqt'\n",
      "         cwd: C:\\Users\\KARTHIKEYAN SELVARAJ\\AppData\\Local\\Temp\\pip-install-k8ifnip_\\beautifulsoup_dff623ae9eb14d708d0dc422396efbf8\\\n",
      "    Complete output (6 lines):\n",
      "    Traceback (most recent call last):\n",
      "      File \"<string>\", line 1, in <module>\n",
      "      File \"C:\\Users\\KARTHIKEYAN SELVARAJ\\AppData\\Local\\Temp\\pip-install-k8ifnip_\\beautifulsoup_dff623ae9eb14d708d0dc422396efbf8\\setup.py\", line 3\n",
      "        \"You're trying to run a very old release of Beautiful Soup under Python 3. This will not work.\"<>\"Please use Beautiful Soup 4, available through the pip package 'beautifulsoup4'.\"\n",
      "                                                                                                       ^\n",
      "    SyntaxError: invalid syntax\n",
      "    ----------------------------------------\n",
      "WARNING: Discarding https://files.pythonhosted.org/packages/40/f2/6c9f2f3e696ee6a1fb0e4d7850617e224ed2b0b1e872110abffeca2a09d4/BeautifulSoup-3.2.2.tar.gz#sha256=a04169602bff6e3138b1259dbbf491f5a27f9499dea9a8fbafd48843f9d89970 (from https://pypi.org/simple/beautifulsoup/). Command errored out with exit status 1: python setup.py egg_info Check the logs for full command output.\n",
      "    ERROR: Command errored out with exit status 1:\n",
      "     command: 'C:\\Users\\KARTHIKEYAN SELVARAJ\\anaconda3\\python.exe' -c 'import io, os, sys, setuptools, tokenize; sys.argv[0] = '\"'\"'C:\\\\Users\\\\KARTHIKEYAN SELVARAJ\\\\AppData\\\\Local\\\\Temp\\\\pip-install-k8ifnip_\\\\beautifulsoup_d3b3999141b64ad499d4bd7fe5576041\\\\setup.py'\"'\"'; __file__='\"'\"'C:\\\\Users\\\\KARTHIKEYAN SELVARAJ\\\\AppData\\\\Local\\\\Temp\\\\pip-install-k8ifnip_\\\\beautifulsoup_d3b3999141b64ad499d4bd7fe5576041\\\\setup.py'\"'\"';f = getattr(tokenize, '\"'\"'open'\"'\"', open)(__file__) if os.path.exists(__file__) else io.StringIO('\"'\"'from setuptools import setup; setup()'\"'\"');code = f.read().replace('\"'\"'\\r\\n'\"'\"', '\"'\"'\\n'\"'\"');f.close();exec(compile(code, __file__, '\"'\"'exec'\"'\"'))' egg_info --egg-base 'C:\\Users\\KARTHIKEYAN SELVARAJ\\AppData\\Local\\Temp\\pip-pip-egg-info-4cf2vfwg'\n",
      "         cwd: C:\\Users\\KARTHIKEYAN SELVARAJ\\AppData\\Local\\Temp\\pip-install-k8ifnip_\\beautifulsoup_d3b3999141b64ad499d4bd7fe5576041\\\n",
      "    Complete output (6 lines):\n",
      "    Traceback (most recent call last):\n",
      "      File \"<string>\", line 1, in <module>\n",
      "      File \"C:\\Users\\KARTHIKEYAN SELVARAJ\\AppData\\Local\\Temp\\pip-install-k8ifnip_\\beautifulsoup_d3b3999141b64ad499d4bd7fe5576041\\setup.py\", line 22\n",
      "        print \"Unit tests have failed!\"\n",
      "              ^\n",
      "    SyntaxError: Missing parentheses in call to 'print'. Did you mean print(\"Unit tests have failed!\")?\n",
      "    ----------------------------------------\n",
      "WARNING: Discarding https://files.pythonhosted.org/packages/1e/ee/295988deca1a5a7accd783d0dfe14524867e31abb05b6c0eeceee49c759d/BeautifulSoup-3.2.1.tar.gz#sha256=6a8cb4401111e011b579c8c52a51cdab970041cc543814bbd9577a4529fe1cdb (from https://pypi.org/simple/beautifulsoup/). Command errored out with exit status 1: python setup.py egg_info Check the logs for full command output.\n",
      "    ERROR: Command errored out with exit status 1:\n",
      "     command: 'C:\\Users\\KARTHIKEYAN SELVARAJ\\anaconda3\\python.exe' -c 'import io, os, sys, setuptools, tokenize; sys.argv[0] = '\"'\"'C:\\\\Users\\\\KARTHIKEYAN SELVARAJ\\\\AppData\\\\Local\\\\Temp\\\\pip-install-k8ifnip_\\\\beautifulsoup_5f94c7ff589448dabca83c4f2eb4ab64\\\\setup.py'\"'\"'; __file__='\"'\"'C:\\\\Users\\\\KARTHIKEYAN SELVARAJ\\\\AppData\\\\Local\\\\Temp\\\\pip-install-k8ifnip_\\\\beautifulsoup_5f94c7ff589448dabca83c4f2eb4ab64\\\\setup.py'\"'\"';f = getattr(tokenize, '\"'\"'open'\"'\"', open)(__file__) if os.path.exists(__file__) else io.StringIO('\"'\"'from setuptools import setup; setup()'\"'\"');code = f.read().replace('\"'\"'\\r\\n'\"'\"', '\"'\"'\\n'\"'\"');f.close();exec(compile(code, __file__, '\"'\"'exec'\"'\"'))' egg_info --egg-base 'C:\\Users\\KARTHIKEYAN SELVARAJ\\AppData\\Local\\Temp\\pip-pip-egg-info-6l9u00i3'\n",
      "         cwd: C:\\Users\\KARTHIKEYAN SELVARAJ\\AppData\\Local\\Temp\\pip-install-k8ifnip_\\beautifulsoup_5f94c7ff589448dabca83c4f2eb4ab64\\\n",
      "    Complete output (6 lines):\n",
      "    Traceback (most recent call last):\n",
      "      File \"<string>\", line 1, in <module>\n",
      "      File \"C:\\Users\\KARTHIKEYAN SELVARAJ\\AppData\\Local\\Temp\\pip-install-k8ifnip_\\beautifulsoup_5f94c7ff589448dabca83c4f2eb4ab64\\setup.py\", line 22\n",
      "        print \"Unit tests have failed!\"\n",
      "              ^\n",
      "    SyntaxError: Missing parentheses in call to 'print'. Did you mean print(\"Unit tests have failed!\")?\n",
      "    ----------------------------------------\n",
      "WARNING: Discarding https://files.pythonhosted.org/packages/33/fe/15326560884f20d792d3ffc7fe8f639aab88647c9d46509a240d9bfbb6b1/BeautifulSoup-3.2.0.tar.gz#sha256=0dc52d07516c1665c9dd9f0a390a7a054bfb7b147a50b2866fb116b8909dfd37 (from https://pypi.org/simple/beautifulsoup/). Command errored out with exit status 1: python setup.py egg_info Check the logs for full command output.\n",
      "ERROR: Could not find a version that satisfies the requirement BeautifulSoup (from versions: 3.2.0, 3.2.1, 3.2.2)\n",
      "ERROR: No matching distribution found for BeautifulSoup\n"
     ]
    }
   ],
   "source": [
    "pip install BeautifulSoup"
   ]
  },
  {
   "cell_type": "code",
   "execution_count": 4,
   "id": "12155db5",
   "metadata": {},
   "outputs": [],
   "source": [
    "from bs4 import BeautifulSoup\n",
    "import requests\n",
    "import smtplib\n",
    "import time\n",
    "import datetime\n",
    "import json"
   ]
  },
  {
   "cell_type": "code",
   "execution_count": 11,
   "id": "36d2930b",
   "metadata": {},
   "outputs": [],
   "source": [
    "my_stocks = ['GSPTSE', 'GSPC', 'DJI']\n",
    "stockdata = []"
   ]
  },
  {
   "cell_type": "code",
   "execution_count": 15,
   "id": "4c114426",
   "metadata": {},
   "outputs": [
    {
     "name": "stdout",
     "output_type": "stream",
     "text": [
      "Getting :  GSPTSE\n",
      "Getting :  GSPC\n",
      "Getting :  DJI\n"
     ]
    }
   ],
   "source": [
    "def getdata(symbol):\n",
    "    URL = f'https://ca.finance.yahoo.com/quote/%5EGSPTSE?p=%5E{symbol}'\n",
    "    headers = {\"User-Agent\" : \"Mozilla/5.0 (Windows NT 10.0; Win64; x64) AppleWebKit/537.36 (KHTML, like Gecko) Chrome/105.0.0.0 Safari/537.36\", \"Accept\": \"text/html,application/xhtml+xml,application/xml;q=0.9,image/avif,image/webp,image/apng,*/*;q=0.8,application/signed-exchange;v=b3;q=0.9\",\"Accept-Encoding\": \"gzip, deflate, br\", \"Accept-Language\": \"en-US,en;q=0.9\", \"Upgrade-Insecure-Requests\": \"1\"}\n",
    "    r = requests.get(URL, headers=headers)\n",
    "    soup1 = BeautifulSoup(r.content, \"html.parser\")\n",
    "    stock = {\n",
    "    'price' : soup1.find('div', {'class' : 'D(ib) Mend(20px)'}).find_all('fin-streamer')[0].text,\n",
    "    'Change1' : soup1.find('div', {'class' : 'D(ib) Mend(20px)'}).find_all('fin-streamer')[1].text,\n",
    "    'Change2' : soup1.find('div', {'class' : 'D(ib) Mend(20px)'}).find_all('fin-streamer')[2].text\n",
    "    }\n",
    "    return stock\n",
    "for item in my_stocks:\n",
    "    stockdata.append(getdata(item))\n",
    "    print ('Getting : ', item)"
   ]
  },
  {
   "cell_type": "code",
   "execution_count": 16,
   "id": "71cb12cc",
   "metadata": {},
   "outputs": [
    {
     "name": "stdout",
     "output_type": "stream",
     "text": [
      "[{'price': '18,206.28', 'Change1': '-10.40', 'Change2': '(-0.06%)'}, {'price': '18,206.28', 'Change1': '-10.40', 'Change2': '(-0.06%)'}, {'price': '18,206.28', 'Change1': '-10.40', 'Change2': '(-0.06%)'}, {'price': '18,206.28', 'Change1': '-10.40', 'Change2': '(-0.06%)'}, {'price': '18,206.28', 'Change1': '-10.40', 'Change2': '(-0.06%)'}, {'price': '18,206.28', 'Change1': '-10.40', 'Change2': '(-0.06%)'}]\n"
     ]
    }
   ],
   "source": [
    "print(stockdata)"
   ]
  },
  {
   "cell_type": "code",
   "execution_count": null,
   "id": "379ed109",
   "metadata": {
    "scrolled": true
   },
   "outputs": [],
   "source": []
  },
  {
   "cell_type": "code",
   "execution_count": null,
   "id": "441850c0",
   "metadata": {},
   "outputs": [],
   "source": []
  },
  {
   "cell_type": "code",
   "execution_count": null,
   "id": "6f01b1e2",
   "metadata": {},
   "outputs": [],
   "source": []
  }
 ],
 "metadata": {
  "kernelspec": {
   "display_name": "Python 3 (ipykernel)",
   "language": "python",
   "name": "python3"
  },
  "language_info": {
   "codemirror_mode": {
    "name": "ipython",
    "version": 3
   },
   "file_extension": ".py",
   "mimetype": "text/x-python",
   "name": "python",
   "nbconvert_exporter": "python",
   "pygments_lexer": "ipython3",
   "version": "3.9.7"
  }
 },
 "nbformat": 4,
 "nbformat_minor": 5
}
